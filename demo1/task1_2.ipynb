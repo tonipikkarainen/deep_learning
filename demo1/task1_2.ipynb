{
 "cells": [
  {
   "cell_type": "code",
   "execution_count": 4,
   "metadata": {},
   "outputs": [],
   "source": [
    "# Task 1 - 2\n",
    "# TIES 4911\n",
    "# Toni Pikkarainen\n",
    "# 15.1.2020\n",
    "import tensorflow.compat.v1 as tf\n",
    "import matplotlib.pyplot as plt\n",
    "import pandas as pd\n",
    "import numpy as np\n",
    "\n",
    "from sklearn.model_selection import train_test_split \n",
    "from sklearn.linear_model import LinearRegression\n",
    "\n",
    "\n",
    "tf.disable_v2_behavior()"
   ]
  },
  {
   "cell_type": "code",
   "execution_count": 5,
   "metadata": {},
   "outputs": [
    {
     "data": {
      "text/plain": [
       "'/Users/tonipikkarainen/master_degree/deeplearning/demos/demo1'"
      ]
     },
     "execution_count": 5,
     "metadata": {},
     "output_type": "execute_result"
    }
   ],
   "source": []
  },
  {
   "cell_type": "code",
   "execution_count": 11,
   "metadata": {},
   "outputs": [],
   "source": [
    "df = pd.read_csv(\"data/blood_pressure.csv\",sep=';')\n"
   ]
  },
  {
   "cell_type": "code",
   "execution_count": 12,
   "metadata": {},
   "outputs": [
    {
     "name": "stdout",
     "output_type": "stream",
     "text": [
      "[39, 45, 47, 65, 46, 67, 42, 67, 56, 64, 56, 59, 34, 42, 48, 45, 17, 20, 19, 36, 50, 39, 21, 44, 53, 63, 29, 25, 69]\n",
      "[144, 138, 145, 162, 142, 170, 124, 158, 154, 162, 150, 140, 110, 128, 130, 135, 114, 116, 124, 136, 142, 120, 120, 160, 158, 144, 130, 125, 175]\n",
      "W: [0.81156576] b: [103.999916] loss: 2612.8035\n",
      "[array([120.23123], dtype=float32), array([124.28906], dtype=float32), array([147.82446], dtype=float32), array([175.4177], dtype=float32)]\n"
     ]
    }
   ],
   "source": [
    "# Simple linear regression\n",
    "# Lecture02, slide 20\n",
    "\n",
    "# Model parameters\n",
    "W = tf.Variable([1], dtype=tf.float32) \n",
    "b = tf.Variable([120], dtype=tf.float32) \n",
    "# Model input and output\n",
    "x = tf.placeholder(tf.float32) \n",
    "linear_model = W*x + b\n",
    "y = tf.placeholder(tf.float32)\n",
    "# loss\n",
    "loss = tf.reduce_sum(tf.square(linear_model - y)) # sum of the squares # optimizer\n",
    "optimizer = tf.train.GradientDescentOptimizer(0.00001)\n",
    "train = optimizer.minimize(loss)\n",
    "# training data\n",
    "x_train = df['age'].tolist()\n",
    "print(x_train)\n",
    "y_train = df['Blood Pressure'].tolist()\n",
    "print(y_train)\n",
    "# training loop\n",
    "init = tf.global_variables_initializer()\n",
    "sess = tf.Session()\n",
    "sess.run(init) # reset values to wrong\n",
    "for i in range(20000):\n",
    "    sess.run(train, {x: x_train, y: y_train})\n",
    "# evaluate training accuracy\n",
    "curr_W, curr_b, curr_loss = sess.run([W, b, loss], {x: x_train, y: y_train}) \n",
    "print(\"W: %s b: %s loss: %s\"%(curr_W, curr_b, curr_loss))\n",
    "# predict new values\n",
    "x_predict = [20, 25, 54, 88]\n",
    "predicted_values = [(W*x + b).eval(session=sess) for x in x_predict]\n",
    "print(predicted_values)"
   ]
  },
  {
   "cell_type": "code",
   "execution_count": 8,
   "metadata": {},
   "outputs": [
    {
     "name": "stdout",
     "output_type": "stream",
     "text": [
      "INFO:tensorflow:Using default config.\n",
      "WARNING:tensorflow:Using temporary folder as model directory: /var/folders/9x/43t_pzm14r7fxvw8p041dzxm0000gn/T/tmpi2t8g51f\n",
      "INFO:tensorflow:Using config: {'_model_dir': '/var/folders/9x/43t_pzm14r7fxvw8p041dzxm0000gn/T/tmpi2t8g51f', '_tf_random_seed': None, '_save_summary_steps': 100, '_save_checkpoints_steps': None, '_save_checkpoints_secs': 600, '_session_config': allow_soft_placement: true\n",
      "graph_options {\n",
      "  rewrite_options {\n",
      "    meta_optimizer_iterations: ONE\n",
      "  }\n",
      "}\n",
      ", '_keep_checkpoint_max': 5, '_keep_checkpoint_every_n_hours': 10000, '_log_step_count_steps': 100, '_train_distribute': None, '_device_fn': None, '_protocol': None, '_eval_distribute': None, '_experimental_distribute': None, '_experimental_max_worker_delay_secs': None, '_session_creation_timeout_secs': 7200, '_service': None, '_cluster_spec': ClusterSpec({}), '_task_type': 'worker', '_task_id': 0, '_global_id_in_cluster': 0, '_master': '', '_evaluation_master': '', '_is_chief': True, '_num_ps_replicas': 0, '_num_worker_replicas': 1}\n",
      "INFO:tensorflow:Calling model_fn.\n",
      "INFO:tensorflow:Done calling model_fn.\n",
      "INFO:tensorflow:Create CheckpointSaverHook.\n",
      "INFO:tensorflow:Graph was finalized.\n",
      "INFO:tensorflow:Running local_init_op.\n",
      "INFO:tensorflow:Done running local_init_op.\n",
      "INFO:tensorflow:Saving checkpoints for 0 into /var/folders/9x/43t_pzm14r7fxvw8p041dzxm0000gn/T/tmpi2t8g51f/model.ckpt.\n",
      "INFO:tensorflow:loss = 347664.0, step = 1\n",
      "INFO:tensorflow:global_step/sec: 1005.18\n",
      "INFO:tensorflow:loss = 18545.719, step = 101 (0.100 sec)\n",
      "INFO:tensorflow:global_step/sec: 1396.3\n",
      "INFO:tensorflow:loss = 11404.061, step = 201 (0.072 sec)\n",
      "INFO:tensorflow:global_step/sec: 1423.97\n",
      "INFO:tensorflow:loss = 5624.194, step = 301 (0.070 sec)\n",
      "INFO:tensorflow:global_step/sec: 1589.88\n",
      "INFO:tensorflow:loss = 4773.106, step = 401 (0.063 sec)\n",
      "INFO:tensorflow:global_step/sec: 1408.81\n",
      "INFO:tensorflow:loss = 13783.887, step = 501 (0.071 sec)\n",
      "INFO:tensorflow:global_step/sec: 1385.5\n",
      "INFO:tensorflow:loss = 13768.555, step = 601 (0.072 sec)\n",
      "INFO:tensorflow:global_step/sec: 1404.32\n",
      "INFO:tensorflow:loss = 39780.527, step = 701 (0.071 sec)\n",
      "INFO:tensorflow:global_step/sec: 1410.86\n",
      "INFO:tensorflow:loss = 3121.7834, step = 801 (0.071 sec)\n",
      "INFO:tensorflow:global_step/sec: 1289.57\n",
      "INFO:tensorflow:loss = 18311.184, step = 901 (0.078 sec)\n",
      "INFO:tensorflow:Saving checkpoints for 1000 into /var/folders/9x/43t_pzm14r7fxvw8p041dzxm0000gn/T/tmpi2t8g51f/model.ckpt.\n",
      "INFO:tensorflow:Loss for final step: 12211.531.\n",
      "INFO:tensorflow:Calling model_fn.\n",
      "INFO:tensorflow:Done calling model_fn.\n",
      "INFO:tensorflow:Starting evaluation at 2020-01-17T12:52:35Z\n",
      "INFO:tensorflow:Graph was finalized.\n",
      "INFO:tensorflow:Restoring parameters from /var/folders/9x/43t_pzm14r7fxvw8p041dzxm0000gn/T/tmpi2t8g51f/model.ckpt-1000\n",
      "INFO:tensorflow:Running local_init_op.\n",
      "INFO:tensorflow:Done running local_init_op.\n",
      "INFO:tensorflow:Inference Time : 5.12352s\n",
      "INFO:tensorflow:Finished evaluation at 2020-01-17-12:52:40\n",
      "INFO:tensorflow:Saving dict for global step 1000: average_loss = 801.18585, global_step = 1000, label/mean = 149.81688, loss = 12017.788, prediction/mean = 146.25691\n",
      "INFO:tensorflow:Saving 'checkpoint_path' summary for global step 1000: /var/folders/9x/43t_pzm14r7fxvw8p041dzxm0000gn/T/tmpi2t8g51f/model.ckpt-1000\n",
      "INFO:tensorflow:Calling model_fn.\n",
      "INFO:tensorflow:Done calling model_fn.\n",
      "INFO:tensorflow:Starting evaluation at 2020-01-17T12:52:40Z\n",
      "INFO:tensorflow:Graph was finalized.\n",
      "INFO:tensorflow:Restoring parameters from /var/folders/9x/43t_pzm14r7fxvw8p041dzxm0000gn/T/tmpi2t8g51f/model.ckpt-1000\n",
      "INFO:tensorflow:Running local_init_op.\n",
      "INFO:tensorflow:Done running local_init_op.\n",
      "INFO:tensorflow:Inference Time : 5.19652s\n",
      "INFO:tensorflow:Finished evaluation at 2020-01-17-12:52:45\n",
      "INFO:tensorflow:Saving dict for global step 1000: average_loss = 1614.6553, global_step = 1000, label/mean = 135.25513, loss = 24219.828, prediction/mean = 109.88277\n",
      "INFO:tensorflow:Saving 'checkpoint_path' summary for global step 1000: /var/folders/9x/43t_pzm14r7fxvw8p041dzxm0000gn/T/tmpi2t8g51f/model.ckpt-1000\n",
      "train metrics: {'average_loss': 801.18585, 'label/mean': 149.81688, 'loss': 12017.788, 'prediction/mean': 146.25691, 'global_step': 1000}\n",
      "eval metrics: {'average_loss': 1614.6553, 'label/mean': 135.25513, 'loss': 24219.828, 'prediction/mean': 109.88277, 'global_step': 1000}\n",
      "INFO:tensorflow:Calling model_fn.\n",
      "INFO:tensorflow:Done calling model_fn.\n",
      "INFO:tensorflow:Graph was finalized.\n",
      "INFO:tensorflow:Restoring parameters from /var/folders/9x/43t_pzm14r7fxvw8p041dzxm0000gn/T/tmpi2t8g51f/model.ckpt-1000\n",
      "INFO:tensorflow:Running local_init_op.\n",
      "INFO:tensorflow:Done running local_init_op.\n",
      "New Samples, Predictions: [58.85392, 72.62372, 152.48857, 246.12325]\n",
      "\n"
     ]
    }
   ],
   "source": [
    "# Linear Regressor with TensorFlow Estimators\n",
    "# Lecture02, slide 30\n",
    "\n",
    "# NumPy is often used to load, manipulate and preprocess data.\n",
    "# import tensorflow as tf\n",
    "# Declare list of features. We only have one numeric feature. There are many\n",
    "# other types of columns that are more complicated and useful.\n",
    "feature_columns = [tf.feature_column.numeric_column(\"x\", shape=[1])]\n",
    "\n",
    "# An estimator is the front end to invoke training (fitting) and evaluation\n",
    "# (inference). There are many predefined types like linear regression,\n",
    "# linear classification, and many neural network classifiers and regressors.\n",
    "# The following code provides an estimator that does linear regression.\n",
    "\n",
    "estimator = tf.estimator.LinearRegressor(feature_columns=feature_columns) \n",
    "\n",
    "# TensorFlow provides many helper methods to read and set up data sets.\n",
    "# Here we use two data sets: one for training and one for evaluation\n",
    "# We have to tell the function how many batches\n",
    "# of data (num_epochs) we want and how big each batch should be.\n",
    "\n",
    "# Training and eval sets\n",
    "x_train_est = np.array(df.loc[0:14, 'age'].tolist())\n",
    "y_train_est = np.array(df.loc[0:14, 'Blood Pressure'].tolist())\n",
    "x_eval = np.array(df.loc[15:30, 'age'].tolist())\n",
    "y_eval = np.array(df.loc[15:30, 'Blood Pressure'].tolist())\n",
    "input_fn = tf.estimator.inputs.numpy_input_fn(\n",
    "    {\"x\": x_train_est}, y_train_est, batch_size=15, num_epochs=None, shuffle=True)\n",
    "\n",
    "\n",
    "train_input_fn = tf.estimator.inputs.numpy_input_fn(\n",
    "    {\"x\": x_train_est}, y_train_est, batch_size=15, num_epochs=10000, shuffle=False)\n",
    "\n",
    "eval_input_fn = tf.estimator.inputs.numpy_input_fn(\n",
    "   {\"x\": x_eval}, y_eval, batch_size=15, num_epochs=10000, shuffle=False)\n",
    "# We can invoke 1000 training steps by invoking the method and \n",
    "# passing the training data set.\n",
    "estimator.train(input_fn=input_fn, steps=1000)\n",
    "# Here we evaluate how well our model did.\n",
    "train_metrics = estimator.evaluate(input_fn=train_input_fn) \n",
    "eval_metrics = estimator.evaluate(input_fn=eval_input_fn) \n",
    "\n",
    "print(\"train metrics: %r\"% train_metrics)\n",
    "print(\"eval metrics: %r\"% eval_metrics)\n",
    "\n",
    "# Here we predict values for new inputs.\n",
    "new_samples = np.array(x_predict) \n",
    "predict_input_fn = tf.estimator.inputs.numpy_input_fn(\n",
    "    {\"x\": new_samples}, batch_size=4, num_epochs=1, shuffle=False)\n",
    "predictions = list(estimator.predict(input_fn=predict_input_fn)) \n",
    "predicted_classes = [p[\"predictions\"][0] for p in predictions] \n",
    "print(\"New Samples, Predictions: {}\\n\".format(predicted_classes))"
   ]
  },
  {
   "cell_type": "code",
   "execution_count": 13,
   "metadata": {},
   "outputs": [
    {
     "data": {
      "text/plain": [
       "[<matplotlib.lines.Line2D at 0x147ed9c18>]"
      ]
     },
     "execution_count": 13,
     "metadata": {},
     "output_type": "execute_result"
    },
    {
     "data": {
      "image/png": "[encoded data removed]",
      "text/plain": [
       "<Figure size 432x288 with 2 Axes>"
      ]
     },
     "metadata": {
      "needs_background": "light"
     },
     "output_type": "display_data"
    }
   ],
   "source": [
    "# Linear regression with scikit-learn\n",
    "\n",
    "\n",
    "# Data Preprocessing\n",
    "#dataset = pd.read_csv('studentscores.csv')\n",
    "X = df.iloc[ : , 2 ].values\n",
    "Y = df.iloc[ : , 3 ].values\n",
    "X_train, X_test, Y_train, Y_test = train_test_split( X, Y, test_size = 1/4, random_state = 0)\n",
    "X_train = X_train.reshape(-1,1)\n",
    "X_test = X_test.reshape(-1,1)\n",
    "Y_train = Y_train.reshape(-1,1)\n",
    "Y_test = Y_test.reshape(-1,1)\n",
    "\n",
    "# Fitting Simple Linear Regression Model to the training set\n",
    "regressor = LinearRegression() \n",
    "regressor = regressor.fit(X_train, Y_train)\n",
    "# Predecting the Result\n",
    "Y_pred = regressor.predict(X_test)\n",
    "#Visualization of Training results\n",
    "plt.subplot(1, 2, 1)\n",
    "plt.scatter(X_train , Y_train, color = 'red')\n",
    "plt.plot(X_train , regressor.predict(X_train), color ='blue')\n",
    "\n",
    "#Visualization of Test results\n",
    "plt.subplot(1, 2, 2)\n",
    "plt.scatter(X_test , Y_test, color = 'red')\n",
    "plt.plot(X_test , regressor.predict(X_test), color ='blue')\n"
   ]
  },
  {
   "cell_type": "code",
   "execution_count": null,
   "metadata": {},
   "outputs": [],
   "source": []
  }
 ],
 "metadata": {
  "kernelspec": {
   "display_name": "Python [conda env:py37]",
   "language": "python",
   "name": "conda-env-py37-py"
  },
  "language_info": {
   "codemirror_mode": {
    "name": "ipython",
    "version": 3
   },
   "file_extension": ".py",
   "mimetype": "text/x-python",
   "name": "python",
   "nbconvert_exporter": "python",
   "pygments_lexer": "ipython3",
   "version": "3.7.1"
  }
 },
 "nbformat": 4,
 "nbformat_minor": 2
}
