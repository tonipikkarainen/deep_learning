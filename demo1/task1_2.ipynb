{
 "cells": [
  {
   "cell_type": "code",
   "execution_count": 1,
   "metadata": {},
   "outputs": [
    {
     "name": "stdout",
     "output_type": "stream",
     "text": [
      "WARNING:tensorflow:From /anaconda2/envs/py37/lib/python3.7/site-packages/tensorflow_core/python/compat/v2_compat.py:88: disable_resource_variables (from tensorflow.python.ops.variable_scope) is deprecated and will be removed in a future version.\n",
      "Instructions for updating:\n",
      "non-resource variables are not supported in the long term\n"
     ]
    }
   ],
   "source": [
    "# Task 1 - 2\n",
    "# TIES 4911\n",
    "# Toni Pikkarainen\n",
    "# 15.1.2020\n",
    "import tensorflow.compat.v1 as tf\n",
    "tf.disable_v2_behavior()"
   ]
  },
  {
   "cell_type": "code",
   "execution_count": 32,
   "metadata": {},
   "outputs": [],
   "source": [
    "import pandas as pd\n",
    "df = pd.read_csv(\"data/blood_pressure.csv\",sep=';')\n"
   ]
  },
  {
   "cell_type": "code",
   "execution_count": 55,
   "metadata": {},
   "outputs": [
    {
     "name": "stdout",
     "output_type": "stream",
     "text": [
      "[39, 47, 45, 47, 65, 46, 67, 42, 67, 56, 64, 56, 59, 34, 42, 48, 45, 17, 20, 19, 36, 50, 39, 21, 44, 53, 63, 29, 25, 69]\n",
      "[144, 220, 138, 145, 162, 142, 170, 124, 158, 154, 162, 150, 140, 110, 128, 130, 135, 114, 116, 124, 136, 142, 120, 120, 160, 158, 144, 130, 125, 175]\n",
      "W: [0.7378201] b: [110.40011] loss: 8802.731\n",
      "[array([125.15651], dtype=float32), array([128.84561], dtype=float32), array([150.2424], dtype=float32), array([175.32828], dtype=float32)]\n"
     ]
    }
   ],
   "source": [
    "# Simple linear regression\n",
    "# Lecture02, slide 20\n",
    "\n",
    "# Model parameters\n",
    "W = tf.Variable([1], dtype=tf.float32) \n",
    "b = tf.Variable([120], dtype=tf.float32) \n",
    "# Model input and output\n",
    "x = tf.placeholder(tf.float32) \n",
    "linear_model = W*x + b\n",
    "y = tf.placeholder(tf.float32)\n",
    "# loss\n",
    "loss = tf.reduce_sum(tf.square(linear_model - y)) # sum of the squares # optimizer\n",
    "optimizer = tf.train.GradientDescentOptimizer(0.00001)\n",
    "train = optimizer.minimize(loss)\n",
    "# training data\n",
    "x_train = df['age'].tolist()\n",
    "print(x_train)\n",
    "y_train = df['Blood Pressure'].tolist()\n",
    "print(y_train)\n",
    "# training loop\n",
    "init = tf.global_variables_initializer()\n",
    "sess = tf.Session()\n",
    "sess.run(init) # reset values to wrong\n",
    "for i in range(10000):\n",
    "    sess.run(train, {x: x_train, y: y_train})\n",
    "# evaluate training accuracy\n",
    "curr_W, curr_b, curr_loss = sess.run([W, b, loss], {x: x_train, y: y_train}) \n",
    "print(\"W: %s b: %s loss: %s\"%(curr_W, curr_b, curr_loss))\n",
    "# predict new values\n",
    "x_predict = [20, 25, 54, 88]\n",
    "predicted_values = [(W*x + b).eval(session=sess) for x in x_predict]\n",
    "print(predicted_values)"
   ]
  },
  {
   "cell_type": "code",
   "execution_count": null,
   "metadata": {},
   "outputs": [],
   "source": []
  }
 ],
 "metadata": {
  "kernelspec": {
   "display_name": "Python [conda env:py37]",
   "language": "python",
   "name": "conda-env-py37-py"
  },
  "language_info": {
   "codemirror_mode": {
    "name": "ipython",
    "version": 3
   },
   "file_extension": ".py",
   "mimetype": "text/x-python",
   "name": "python",
   "nbconvert_exporter": "python",
   "pygments_lexer": "ipython3",
   "version": "3.7.1"
  }
 },
 "nbformat": 4,
 "nbformat_minor": 2
}
