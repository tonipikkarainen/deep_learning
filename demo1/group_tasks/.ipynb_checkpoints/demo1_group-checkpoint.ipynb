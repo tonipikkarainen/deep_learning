{
 "cells": [
  {
   "cell_type": "code",
   "execution_count": 205,
   "metadata": {},
   "outputs": [],
   "source": [
    "import tensorflow.compat.v1 as tf\n",
    "import matplotlib.pyplot as plt\n",
    "import pandas as pd\n",
    "import numpy as np\n",
    "from tensorflow.keras.models import Sequential\n",
    "from tensorflow.keras.layers import Dense\n",
    "\n",
    "\n",
    "from sklearn.model_selection import train_test_split \n",
    "from sklearn.linear_model import LinearRegression\n",
    "from sklearn.impute import SimpleImputer\n",
    "from sklearn.preprocessing import LabelEncoder, OneHotEncoder\n",
    "from sklearn.model_selection import train_test_split\n",
    "from sklearn.preprocessing import StandardScaler\n",
    "from sklearn.metrics import mean_squared_error\n",
    "from sklearn.metrics import r2_score\n",
    "\n",
    "tf.disable_v2_behavior()\n",
    "\n",
    "\n"
   ]
  },
  {
   "cell_type": "code",
   "execution_count": 187,
   "metadata": {},
   "outputs": [],
   "source": [
    "df = pd.read_csv(\"Automobile_price_data_Raw_set.csv\")\n",
    "df_dropped = df.dropna(axis=0, how='any')"
   ]
  },
  {
   "cell_type": "code",
   "execution_count": 189,
   "metadata": {},
   "outputs": [],
   "source": [
    "df_ind = df_dropped.loc[:, ['make', 'body-style', 'wheel-base', 'engine-size', 'horsepower', 'peak-rpm', 'highway-mpg']]\n",
    "df_dep = df_dropped.loc[:,'price']\n",
    "\n",
    "\n",
    "\n",
    "# Transferred manually Audi to 0 and hatchback to 2 which\n",
    "# correlated categories with training data.\n",
    "prediction = [ 0, 2, 99.5, 131, 160, 5500, 22 ]\n",
    "\n",
    "df_pred = pd.DataFrame(prediction)\n",
    "\n",
    "##df_ind.append(df_pred)\n",
    "#df_ind.tail()\n",
    "\n"
   ]
  },
  {
   "cell_type": "code",
   "execution_count": 190,
   "metadata": {},
   "outputs": [
    {
     "data": {
      "text/html": [
       "<div>\n",
       "<style scoped>\n",
       "    .dataframe tbody tr th:only-of-type {\n",
       "        vertical-align: middle;\n",
       "    }\n",
       "\n",
       "    .dataframe tbody tr th {\n",
       "        vertical-align: top;\n",
       "    }\n",
       "\n",
       "    .dataframe thead th {\n",
       "        text-align: right;\n",
       "    }\n",
       "</style>\n",
       "<table border=\"1\" class=\"dataframe\">\n",
       "  <thead>\n",
       "    <tr style=\"text-align: right;\">\n",
       "      <th></th>\n",
       "      <th>make</th>\n",
       "      <th>body-style</th>\n",
       "      <th>wheel-base</th>\n",
       "      <th>engine-size</th>\n",
       "      <th>horsepower</th>\n",
       "      <th>peak-rpm</th>\n",
       "      <th>highway-mpg</th>\n",
       "    </tr>\n",
       "  </thead>\n",
       "  <tbody>\n",
       "    <tr>\n",
       "      <th>3</th>\n",
       "      <td>0</td>\n",
       "      <td>3</td>\n",
       "      <td>99.8</td>\n",
       "      <td>109</td>\n",
       "      <td>102.0</td>\n",
       "      <td>5500.0</td>\n",
       "      <td>30</td>\n",
       "    </tr>\n",
       "    <tr>\n",
       "      <th>4</th>\n",
       "      <td>0</td>\n",
       "      <td>3</td>\n",
       "      <td>99.4</td>\n",
       "      <td>136</td>\n",
       "      <td>115.0</td>\n",
       "      <td>5500.0</td>\n",
       "      <td>22</td>\n",
       "    </tr>\n",
       "    <tr>\n",
       "      <th>6</th>\n",
       "      <td>0</td>\n",
       "      <td>3</td>\n",
       "      <td>105.8</td>\n",
       "      <td>136</td>\n",
       "      <td>110.0</td>\n",
       "      <td>5500.0</td>\n",
       "      <td>25</td>\n",
       "    </tr>\n",
       "    <tr>\n",
       "      <th>8</th>\n",
       "      <td>0</td>\n",
       "      <td>3</td>\n",
       "      <td>105.8</td>\n",
       "      <td>131</td>\n",
       "      <td>140.0</td>\n",
       "      <td>5500.0</td>\n",
       "      <td>20</td>\n",
       "    </tr>\n",
       "    <tr>\n",
       "      <th>10</th>\n",
       "      <td>1</td>\n",
       "      <td>3</td>\n",
       "      <td>101.2</td>\n",
       "      <td>108</td>\n",
       "      <td>101.0</td>\n",
       "      <td>5800.0</td>\n",
       "      <td>29</td>\n",
       "    </tr>\n",
       "  </tbody>\n",
       "</table>\n",
       "</div>"
      ],
      "text/plain": [
       "    make  body-style  wheel-base  engine-size  horsepower  peak-rpm  \\\n",
       "3      0           3        99.8          109       102.0    5500.0   \n",
       "4      0           3        99.4          136       115.0    5500.0   \n",
       "6      0           3       105.8          136       110.0    5500.0   \n",
       "8      0           3       105.8          131       140.0    5500.0   \n",
       "10     1           3       101.2          108       101.0    5800.0   \n",
       "\n",
       "    highway-mpg  \n",
       "3            30  \n",
       "4            22  \n",
       "6            25  \n",
       "8            20  \n",
       "10           29  "
      ]
     },
     "execution_count": 190,
     "metadata": {},
     "output_type": "execute_result"
    }
   ],
   "source": [
    "\n",
    "# Label encoding\n",
    "labelencoder_make = LabelEncoder()\n",
    "df_ind.loc[:,'make'] = labelencoder_make.fit_transform(df_ind.loc[:,'make'])\n",
    "\n",
    "\n",
    "\n",
    "labelencoder_bodystyle = LabelEncoder()\n",
    "df_ind.loc[:,'body-style'] = labelencoder_bodystyle.fit_transform(df_ind.loc[:,'body-style'])\n",
    "df_ind.head()\n",
    "\n"
   ]
  },
  {
   "cell_type": "code",
   "execution_count": 191,
   "metadata": {},
   "outputs": [],
   "source": [
    "X_train, X_test, Y_train, Y_test = train_test_split( df_ind , df_dep , test_size = 0.2, random_state = 0)\n",
    "\n",
    "sc_X = StandardScaler()\n",
    "#print(\"original\")\n",
    "#print(df_ind)\n",
    "#print(\"train\")\n",
    "#print(X_train)\n",
    "#print(\"test\")\n",
    "#print(X_test)\n",
    "X_train = sc_X.fit_transform(X_train)\n",
    "X_test = sc_X.fit_transform(X_test)\n",
    "\n",
    "df_pred = sc_X.fit_transform(df_pred)\n",
    "\n",
    "\n",
    "\n",
    "#type(X_train)\n",
    "#type(Y_train)   \n",
    "sc_Y = StandardScaler()\n",
    "Y_train = sc_Y.fit_transform(Y_train.values.reshape(-1,1))\n",
    "Y_test = sc_Y.fit_transform(Y_test.values.reshape(-1,1))\n",
    "\n"
   ]
  },
  {
   "cell_type": "code",
   "execution_count": 198,
   "metadata": {},
   "outputs": [
    {
     "name": "stdout",
     "output_type": "stream",
     "text": [
      "Evaluation MSE: 0.1844344437122345\n",
      "Evaluation accuracy: 0.0\n",
      "[[7947.5176]]\n"
     ]
    }
   ],
   "source": [
    "model = Sequential()\n",
    "model.add(Dense(units=100, activation='relu', input_dim = 7)) \n",
    "model.add(Dense(units=100, activation='relu')) \n",
    "model.add(Dense(units=100, activation='relu')) \n",
    "model.add(Dense(units=100, activation='relu')) \n",
    "\n",
    "model.add(Dense(units=1))\n",
    "\n",
    "model.compile(loss='mean_squared_error', optimizer='adam', metrics = ['accuracy'])\n",
    "\n",
    "model.fit(X_train, Y_train, epochs=1000, verbose=0)\n",
    "\n",
    "# evaluate the model\n",
    "mse_value, acc = model.evaluate(X_test, Y_test, verbose=0)\n",
    "print('Evaluation MSE: '+str(mse_value))\n",
    "print('Evaluation accuracy: '+str(acc))\n",
    "# predict the value\n",
    "Y_pred = model.predict(df_pred.reshape(1, -1))\n",
    "print(sc_Y.inverse_transform(Y_pred))"
   ]
  },
  {
   "cell_type": "code",
   "execution_count": 210,
   "metadata": {},
   "outputs": [
    {
     "name": "stdout",
     "output_type": "stream",
     "text": [
      "Predicted value for prediction set:  [[8902.1685932]]\n",
      "MSE for test set  0.5626972368857254\n"
     ]
    }
   ],
   "source": [
    "# Scikit\n",
    "\n",
    "regressor = LinearRegression() \n",
    "regressor = regressor.fit(X_train, Y_train)\n",
    "\n",
    "# Predecting the Result\n",
    "Y_pred_2 = regressor.predict(df_pred.reshape(1, -1))\n",
    "print(\"Predicted value for prediction set: \", sc_Y.inverse_transform(Y_pred_2))\n",
    "\n",
    "#pred_test_lr= lr.predict(X_test)\n",
    "#print(np.sqrt(mean_squared_error(y_test,pred_test_lr))) \n",
    "#print(r2_score(y_test, pred_test_lr))\n",
    "\n",
    "###\n",
    "\n",
    "###\n",
    "pred_test_lr= regressor.predict(X_test)\n",
    "print(\"MSE for test set \",np.sqrt(mean_squared_error(Y_test,pred_test_lr))) \n"
   ]
  },
  {
   "cell_type": "code",
   "execution_count": null,
   "metadata": {},
   "outputs": [],
   "source": []
  },
  {
   "cell_type": "code",
   "execution_count": null,
   "metadata": {},
   "outputs": [],
   "source": []
  }
 ],
 "metadata": {
  "kernelspec": {
   "display_name": "Python [conda env:py37]",
   "language": "python",
   "name": "conda-env-py37-py"
  },
  "language_info": {
   "codemirror_mode": {
    "name": "ipython",
    "version": 3
   },
   "file_extension": ".py",
   "mimetype": "text/x-python",
   "name": "python",
   "nbconvert_exporter": "python",
   "pygments_lexer": "ipython3",
   "version": "3.7.1"
  }
 },
 "nbformat": 4,
 "nbformat_minor": 2
}
