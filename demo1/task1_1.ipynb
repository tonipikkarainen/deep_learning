{
 "cells": [
  {
   "cell_type": "code",
   "execution_count": 1,
   "metadata": {},
   "outputs": [
    {
     "name": "stdout",
     "output_type": "stream",
     "text": [
      "WARNING:tensorflow:From /anaconda2/envs/py37/lib/python3.7/site-packages/tensorflow_core/python/compat/v2_compat.py:88: disable_resource_variables (from tensorflow.python.ops.variable_scope) is deprecated and will be removed in a future version.\n",
      "Instructions for updating:\n",
      "non-resource variables are not supported in the long term\n"
     ]
    }
   ],
   "source": [
    "# Task 1 - 1\n",
    "# TIES 4911\n",
    "# Toni Pikkarainen\n",
    "# 14.1.2020\n",
    "import tensorflow.compat.v1 as tf\n",
    "tf.disable_v2_behavior()"
   ]
  },
  {
   "cell_type": "code",
   "execution_count": 2,
   "metadata": {},
   "outputs": [],
   "source": [
    "# Constants\n",
    "# Lecture02, slides 11-13\n",
    "a = tf.constant(5)\n",
    "b = tf.constant(2)\n",
    "add_op = tf.add(a, b)\n",
    "mul_op = tf.multiply(b,add_op)\n",
    "pow_op = tf.pow(mul_op,b)\n",
    "\n",
    "\n",
    "\n",
    "\n",
    "\n"
   ]
  },
  {
   "cell_type": "code",
   "execution_count": 3,
   "metadata": {},
   "outputs": [],
   "source": [
    "# Variables \n",
    "# Lecture02, slides 15-17\n",
    "var1 = tf.Variable(2, name=\"scalar1\")\n",
    "var2 = tf.Variable(3, name=\"scalar2\")\n",
    "assign_op = var2.assign(10)"
   ]
  },
  {
   "cell_type": "code",
   "execution_count": 4,
   "metadata": {},
   "outputs": [],
   "source": [
    "# Placeholders\n",
    "# Lecture02, slides 19-20\n",
    "\n",
    "a = tf.placeholder(tf.float32, shape=[3])\n",
    "b = tf.constant([1, 2, 3], tf.float32)\n",
    "d = tf.constant([2, 3, 4], tf.float32)\n",
    "c = tf.add(a, tf.add(d,b))\n",
    "\n"
   ]
  },
  {
   "cell_type": "code",
   "execution_count": 5,
   "metadata": {},
   "outputs": [],
   "source": [
    "list_of_values = [1,2,3]"
   ]
  },
  {
   "cell_type": "code",
   "execution_count": 6,
   "metadata": {},
   "outputs": [
    {
     "name": "stdout",
     "output_type": "stream",
     "text": [
      "1\n",
      "196\n",
      "10\n",
      "[4. 6. 8.]\n"
     ]
    }
   ],
   "source": [
    "# creating the writer out of the session\n",
    "# writer = tf.summary.FileWriter('./graphs', tf.get_default_graph())\n",
    "# launch the graph in a session\n",
    "with tf.Session() as sess:\n",
    "    # or creating the writer inside the session\n",
    "    writer = tf.summary.FileWriter('./graphs', sess.graph)\n",
    "    sess.run(var1.initializer)\n",
    "    \n",
    "    # Question:\n",
    "    # If I add this next line, everytime I run the code tensorboard will\n",
    "    # print new assign_op node for var1 - how can I prevent that from happening??\n",
    "    # SOLVED: restart kernel!\n",
    "    \n",
    "    # Why these are not producing op_nodes to tensorboard graph?\n",
    "    sess.run(var1.assign_add(var1.eval()))\n",
    "    sess.run(var1.assign_sub(3))\n",
    "    print(var1.eval())\n",
    "    \n",
    "    print(sess.run(pow_op))\n",
    "    sess.run(assign_op)\n",
    "    print(var2.eval())\n",
    "    print (sess.run(c, {a: [1, 1, 1]}))\n",
    "    writer.close() "
   ]
  },
  {
   "cell_type": "code",
   "execution_count": null,
   "metadata": {},
   "outputs": [],
   "source": []
  }
 ],
 "metadata": {
  "kernelspec": {
   "display_name": "Python [conda env:py37]",
   "language": "python",
   "name": "conda-env-py37-py"
  },
  "language_info": {
   "codemirror_mode": {
    "name": "ipython",
    "version": 3
   },
   "file_extension": ".py",
   "mimetype": "text/x-python",
   "name": "python",
   "nbconvert_exporter": "python",
   "pygments_lexer": "ipython3",
   "version": "3.7.1"
  }
 },
 "nbformat": 4,
 "nbformat_minor": 2
}
