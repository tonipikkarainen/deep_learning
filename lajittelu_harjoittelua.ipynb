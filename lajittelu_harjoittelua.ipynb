{
 "cells": [
  {
   "cell_type": "code",
   "execution_count": null,
   "metadata": {},
   "outputs": [],
   "source": [
    "# Kertaillaan lajittelua"
   ]
  },
  {
   "cell_type": "code",
   "execution_count": 144,
   "metadata": {},
   "outputs": [],
   "source": [
    "def hae_suurin(t):\n",
    "    suurin = t[0]\n",
    "    for x in t:\n",
    "        if x > suurin:\n",
    "            suurin = x\n",
    "    return suurin\n",
    "    \n",
    "def select_sort(t):\n",
    "    lajiteltu = []\n",
    "    while (len(t)>0):\n",
    "        suurin = hae_suurin(t)\n",
    "        lajiteltu.append(suurin)\n",
    "        t.remove(suurin)\n",
    "        print(t)\n",
    "\n",
    "    return lajiteltu\n",
    "    "
   ]
  },
  {
   "cell_type": "code",
   "execution_count": 26,
   "metadata": {},
   "outputs": [
    {
     "name": "stdout",
     "output_type": "stream",
     "text": [
      "[3, 2, 6, 7, 1, 8]\n",
      "[3, 2, 6, 7, 1]\n",
      "[3, 2, 6, 1]\n",
      "[3, 2, 1]\n",
      "[2, 1]\n",
      "[1]\n",
      "[]\n"
     ]
    },
    {
     "data": {
      "text/plain": [
       "[9, 8, 7, 6, 3, 2, 1]"
      ]
     },
     "execution_count": 26,
     "metadata": {},
     "output_type": "execute_result"
    }
   ],
   "source": [
    "select_sort([3,2,6,7,1,8,9])"
   ]
  },
  {
   "cell_type": "code",
   "execution_count": 29,
   "metadata": {},
   "outputs": [],
   "source": [
    "def lex_sort(s1,s2):\n",
    "    i = 0\n",
    "    for c in s1:\n",
    "        if len(s2) == i:\n",
    "            return [s2,s1]\n",
    "        if c < s2[i]: \n",
    "            return [s1,s2]\n",
    "        if c > s2[i]:\n",
    "            return [s2,s1]\n",
    "        i = i + 1\n",
    "    return [s1,s2]\n",
    "            "
   ]
  },
  {
   "cell_type": "code",
   "execution_count": 49,
   "metadata": {},
   "outputs": [
    {
     "data": {
      "text/plain": [
       "['aaan', 'aaaojjjj']"
      ]
     },
     "execution_count": 49,
     "metadata": {},
     "output_type": "execute_result"
    }
   ],
   "source": [
    "lex_sort(\"aaaojjjj\",\"aaan\")"
   ]
  },
  {
   "cell_type": "code",
   "execution_count": 129,
   "metadata": {},
   "outputs": [],
   "source": [
    "class LinLista:\n",
    "    def __init__(self, ekaAlkio = None):\n",
    "        self.eka = ekaAlkio\n",
    "        \n",
    "    def lisaa(self,alkio):\n",
    "        if self.eka is None: self.eka = alkio\n",
    "        else:\n",
    "            seur = self.eka\n",
    "            print(seur)\n",
    "            while(seur.seuraava is not None):\n",
    "                seur = seur.seuraava\n",
    "            seur.seuraava = alkio\n",
    "            \n",
    "    def tulosta(self):\n",
    "        alkio = self.eka\n",
    "        while(alkio):\n",
    "            print(alkio.sisalto)\n",
    "            alkio = alkio.seuraava\n",
    "            \n",
    "    \n"
   ]
  },
  {
   "cell_type": "code",
   "execution_count": 130,
   "metadata": {},
   "outputs": [],
   "source": [
    "class LinAlkio:\n",
    "    def __init__(self, sisalto, seuraavaAlkio = None):\n",
    "        self.seuraava = seuraavaAlkio\n",
    "        self.sisalto = sisalto\n",
    "        "
   ]
  },
  {
   "cell_type": "code",
   "execution_count": 131,
   "metadata": {},
   "outputs": [],
   "source": [
    "testi = LinAlkio(3)"
   ]
  },
  {
   "cell_type": "code",
   "execution_count": 132,
   "metadata": {},
   "outputs": [
    {
     "name": "stdout",
     "output_type": "stream",
     "text": [
      "3\n"
     ]
    }
   ],
   "source": [
    "print(testi.sisalto)"
   ]
  },
  {
   "cell_type": "code",
   "execution_count": 133,
   "metadata": {},
   "outputs": [],
   "source": [
    "LL = LinLista()\n",
    "LL2 = LinLista()\n",
    "\n",
    "LL.eka = testi"
   ]
  },
  {
   "cell_type": "code",
   "execution_count": 142,
   "metadata": {},
   "outputs": [
    {
     "name": "stdout",
     "output_type": "stream",
     "text": [
      "<__main__.LinAlkio object at 0x1064c7518>\n"
     ]
    }
   ],
   "source": [
    "\n",
    "LL2.lisaa(LinAlkio(9))\n",
    "\n"
   ]
  },
  {
   "cell_type": "code",
   "execution_count": 143,
   "metadata": {},
   "outputs": [
    {
     "name": "stdout",
     "output_type": "stream",
     "text": [
      "3\n",
      "----\n",
      "5\n",
      "5\n",
      "5\n",
      "5\n",
      "5\n",
      "6\n",
      "9\n",
      "9\n"
     ]
    }
   ],
   "source": [
    "LL.tulosta()\n",
    "print(\"----\")\n",
    "LL2.tulosta()"
   ]
  },
  {
   "cell_type": "code",
   "execution_count": null,
   "metadata": {},
   "outputs": [],
   "source": []
  }
 ],
 "metadata": {
  "kernelspec": {
   "display_name": "Python [conda env:py37]",
   "language": "python",
   "name": "conda-env-py37-py"
  },
  "language_info": {
   "codemirror_mode": {
    "name": "ipython",
    "version": 3
   },
   "file_extension": ".py",
   "mimetype": "text/x-python",
   "name": "python",
   "nbconvert_exporter": "python",
   "pygments_lexer": "ipython3",
   "version": "3.7.1"
  }
 },
 "nbformat": 4,
 "nbformat_minor": 2
}
