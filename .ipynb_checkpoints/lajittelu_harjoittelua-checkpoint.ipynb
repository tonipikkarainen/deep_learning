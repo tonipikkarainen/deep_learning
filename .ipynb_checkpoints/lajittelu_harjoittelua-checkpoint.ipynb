{
 "cells": [
  {
   "cell_type": "code",
   "execution_count": null,
   "metadata": {},
   "outputs": [],
   "source": [
    "# Kertaillaan lajittelua"
   ]
  },
  {
   "cell_type": "code",
   "execution_count": 24,
   "metadata": {},
   "outputs": [],
   "source": [
    "def hae_suurin(t):\n",
    "    suurin = t[0]\n",
    "    for x in t:\n",
    "        if x > suurin:\n",
    "            suurin = x\n",
    "    return suurin\n",
    "    \n",
    "def select_sort(t):\n",
    "    lajiteltu = []\n",
    "    while (len(t)>0):\n",
    "        suurin = hae_suurin(t)\n",
    "        lajiteltu.append(suurin)\n",
    "        t.remove(suurin)\n",
    "        print(t)\n",
    "\n",
    "    return lajiteltu\n",
    "    "
   ]
  },
  {
   "cell_type": "code",
   "execution_count": 26,
   "metadata": {},
   "outputs": [
    {
     "name": "stdout",
     "output_type": "stream",
     "text": [
      "[3, 2, 6, 7, 1, 8]\n",
      "[3, 2, 6, 7, 1]\n",
      "[3, 2, 6, 1]\n",
      "[3, 2, 1]\n",
      "[2, 1]\n",
      "[1]\n",
      "[]\n"
     ]
    },
    {
     "data": {
      "text/plain": [
       "[9, 8, 7, 6, 3, 2, 1]"
      ]
     },
     "execution_count": 26,
     "metadata": {},
     "output_type": "execute_result"
    }
   ],
   "source": [
    "select_sort([3,2,6,7,1,8,9])"
   ]
  },
  {
   "cell_type": "code",
   "execution_count": null,
   "metadata": {},
   "outputs": [],
   "source": []
  }
 ],
 "metadata": {
  "kernelspec": {
   "display_name": "Python [conda env:py37]",
   "language": "python",
   "name": "conda-env-py37-py"
  },
  "language_info": {
   "codemirror_mode": {
    "name": "ipython",
    "version": 3
   },
   "file_extension": ".py",
   "mimetype": "text/x-python",
   "name": "python",
   "nbconvert_exporter": "python",
   "pygments_lexer": "ipython3",
   "version": "3.7.1"
  }
 },
 "nbformat": 4,
 "nbformat_minor": 2
}
